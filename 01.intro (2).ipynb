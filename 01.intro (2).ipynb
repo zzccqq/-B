{
 "cells": [
  {
   "cell_type": "markdown",
   "metadata": {
    "nbpresent": {
     "id": "67f6353c-d00a-4035-8fc3-5f5db23bf13c"
    }
   },
   "source": [
    "# 1. The way of the program"
   ]
  },
  {
   "cell_type": "markdown",
   "metadata": {
    "nbpresent": {
     "id": "260ad8c4-b93b-49ce-8cc5-c4a296053820"
    }
   },
   "source": [
    "##  How computer scientists think\n",
    "\n",
    "\n",
    "<div class=\"panel panel-info\">\n",
    "    <div class=\"panel-heading\">\n",
    "         Like mathematicians\n",
    "    </div>\n",
    "    <div class=\"panel-body\">use formal languages to denote ideas</div>\n",
    "</div>\n",
    "\n",
    "<div class=\"panel panel-info\">\n",
    "    <div class=\"panel-heading\">\n",
    "         Like engineers\n",
    "    </div>\n",
    "    <div class=\"panel-body\">design things, assembling components into systems and evaluating tradeoffs among alternatives</div>\n",
    "</div>\n",
    "\n",
    "<div class=\"panel panel-info\">\n",
    "    <div class=\"panel-heading\">\n",
    "         Like scientists\n",
    "    </div>\n",
    "    <div class=\"panel-body\">observe the behavior of complex systems, form hypotheses, and test predictions</div>\n",
    "</div>\n"
   ]
  },
  {
   "cell_type": "markdown",
   "metadata": {
    "nbpresent": {
     "id": "09a5a586-fabc-4b12-84ce-04dd8274baf5"
    }
   },
   "source": [
    "## Skill for computer scientist\n",
    "\n",
    "The single most important skill for a computer scientist is **problem solving** \n",
    "\n",
    "- the ability to formulate problems, \n",
    "- think creatively about solutions, \n",
    "- and express a solution clearly and accurately. \n",
    "\n",
    "&nbsp;\n",
    "<div class=\"alert alert-info\">\n",
    "    The way to solve problems: <font style=\"font-weight:bold\">learning to program</font>\n",
    "</div>"
   ]
  },
  {
   "cell_type": "markdown",
   "metadata": {
    "nbpresent": {
     "id": "c9a66e0c-fc02-4497-be07-7aee7465bd60"
    }
   },
   "source": [
    "## Algorithms\n",
    "\n",
    "An algorithm is a step by step list of instructions that if followed exactly will solve the problem under consideration.\n",
    "\n",
    "Programming is a skill that allows a computer scientist to take an algorithm and represent it in a notation (a program) that can be followed by a computer. \n",
    "\n",
    "These programs are written in **programming languages**."
   ]
  },
  {
   "cell_type": "markdown",
   "metadata": {
    "nbpresent": {
     "id": "f9e385e8-dabe-4903-b47c-6a4a53527510"
    }
   },
   "source": [
    "## The Python Programming Language\n",
    "\n",
    "[Python](http://python.org) is a high-level language\n",
    "- easier to program in a high-level language so programs\n",
    "    - take less time to write\n",
    "    - shorter and easier to read\n",
    "    - more likely to be correct\n",
    "- high-level languages are portable"
   ]
  },
  {
   "cell_type": "markdown",
   "metadata": {
    "nbpresent": {
     "id": "8e0cbbe0-92d0-4151-9c04-efb13999ed53"
    }
   },
   "source": [
    "##  Interpreter vs Compiler\n",
    "\n",
    "&nbsp;\n",
    "<div class=\"panel panel-info\">\n",
    "    <div class=\"panel-heading\">1. Interpreter</div>\n",
    "    <div class=\"panel-body\">\n",
    "    <pre>source code → interpreter → output</pre>\n",
    "    </div>\n",
    "</div>\n",
    "\n",
    "\n",
    "<div class=\"panel panel-info\">\n",
    "    <div class=\"panel-heading\">2. Compiler</div>\n",
    "    <div class=\"panel-body\">\n",
    "    <pre>source code → compiler → object code → executor → output</pre>\n",
    "    </div>\n",
    "</div>"
   ]
  },
  {
   "cell_type": "markdown",
   "metadata": {
    "nbpresent": {
     "id": "844521ef-55f5-4101-bd41-033cbfbb1254"
    }
   },
   "source": [
    "## Python interpreter\n",
    "\n",
    "- python shell\n",
    "\n",
    "\n",
    "- ipython shell\n",
    "\n",
    "\n",
    "- jupyter notebook\n",
    "\n",
    "\n",
    "- python program"
   ]
  },
  {
   "cell_type": "markdown",
   "metadata": {
    "nbpresent": {
     "id": "5e363e09-2459-40cb-b5ca-631a69d56429"
    }
   },
   "source": [
    "**python shell**\n",
    "\n",
    "```\n",
    "$ python3\n",
    "Python 3.5.2 |Continuum Analytics, Inc.| (default, Jul  2 2016, 17:52:12) \n",
    "[GCC 4.2.1 Compatible Apple LLVM 4.2 (clang-425.0.28)] on darwin\n",
    "Type \"help\", \"copyright\", \"credits\" or \"license\" for more information.\n",
    ">>> 2 + 3\n",
    "5\n",
    ">>> \n",
    "```"
   ]
  },
  {
   "cell_type": "markdown",
   "metadata": {
    "nbpresent": {
     "id": "811b52c6-a6cd-490c-972b-fcef0d7baa72"
    }
   },
   "source": [
    "**ipython shell**\n",
    "\n",
    "```\n",
    "$ python3 -m IPython\n",
    "Python 3.5.2 (default, Jul  2 2016, 17:52:12) \n",
    "IPython 5.1.0 -- An enhanced Interactive Python.\n",
    "\n",
    "In [1]: 2 + 3\n",
    "Out[1]: 5\n",
    "\n",
    "In [2]: \n",
    "```"
   ]
  },
  {
   "cell_type": "markdown",
   "metadata": {
    "nbpresent": {
     "id": "eb09240b-4094-4c41-8c89-e25334b39139"
    }
   },
   "source": [
    "**jupyter notebook**\n",
    "\n",
    "IPython is now the name of the Python kernel for the [Jupyter Notebook](http://jupyter.org).\n",
    "\n",
    "```\n",
    "$ jupyter notebook\n",
    "```\n",
    "\n",
    "will automatically open a browser window showing your home directory.\n",
    "\n",
    "then you can **New** a **Python Notebook**"
   ]
  },
  {
   "cell_type": "markdown",
   "metadata": {
    "nbpresent": {
     "id": "e4311b48-5f0e-4f20-837c-a0d57b42335c"
    }
   },
   "source": [
    "**python program**\n",
    "\n",
    "```bash\n",
    "$ cat hello.py\n",
    "print(\"Hello world!\")\n",
    "```\n",
    "\n",
    "```bash\n",
    "$ python3 hello.py\n",
    "Hello world!\n",
    "```"
   ]
  },
  {
   "cell_type": "markdown",
   "metadata": {
    "nbpresent": {
     "id": "f117f1c3-9a7f-45e7-a24d-7490d3b09e5b"
    }
   },
   "source": [
    "## More About Programs\n",
    "A **program** is a sequence of instructions that specifies how to perform a computation. \n",
    "- Input\n",
    "- Output\n",
    "- Math and logic\n",
    "- Conditional execution\n",
    "- Repetition"
   ]
  },
  {
   "cell_type": "markdown",
   "metadata": {
    "nbpresent": {
     "id": "fc168ab7-dbce-4afc-a8d3-b33dae75802a"
    }
   },
   "source": [
    "## What is debugging\n",
    "\n",
    "<div class=\"alert alert-danger\">\n",
    "Programming errors are called bugs and the process of tracking them down and correcting them is called debugging.</div>\n",
    "\n",
    "Three kinds of errors can occur in a program: \n",
    "- syntax errors\n",
    "- runtime errors\n",
    "- semantic errors "
   ]
  },
  {
   "cell_type": "markdown",
   "metadata": {
    "nbpresent": {
     "id": "dc29ce51-a334-496d-a69d-0de179bd78bc"
    }
   },
   "source": [
    "## Syntax errors\n",
    "\n",
    "Python can only execute a program if the program is syntactically correct; otherwise, the process **fails** and returns an error message. \n",
    "\n",
    "Syntax refers to the **structure** of a program and the **rules** about that structure. "
   ]
  },
  {
   "cell_type": "markdown",
   "metadata": {
    "nbpresent": {
     "id": "62efdfdc-5275-497b-8038-2566c194203b"
    }
   },
   "source": [
    "**Exercise**\n",
    "\n",
    "```\n",
    "1. Which of the following is a syntax error?\n",
    "\n",
    "(A) Attempting to divide by 0.\n",
    "(B) Forgetting a colon at the end of a statement where one is required.\n",
    "(C) Forgetting to divide by 100 when printing a percentage amount.\n",
    "```"
   ]
  },
  {
   "cell_type": "markdown",
   "metadata": {
    "nbpresent": {
     "id": "98b8e39f-2453-4b26-89b5-db4fe29aa51b"
    }
   },
   "source": [
    "```\n",
    "2. Who or what typically finds syntax errors?\n",
    "\n",
    "(A) The programmer.\n",
    "(B) The compiler / interpreter.\n",
    "(C) The computer.\n",
    "(D) The teacher / instructor.\n",
    "```"
   ]
  },
  {
   "cell_type": "markdown",
   "metadata": {
    "nbpresent": {
     "id": "bf57a1cd-7a24-48d8-b4e5-ceacf774e6b8"
    }
   },
   "source": [
    "## Runtime Errors\n",
    "\n",
    "Runtime error does not appear until you run the program. \n",
    "\n",
    "These errors are also called **exceptions** because they usually indicate that something exceptional (and bad) has happened."
   ]
  },
  {
   "cell_type": "markdown",
   "metadata": {
    "nbpresent": {
     "id": "7aeb386f-373c-4cdf-a289-67f0009cb816"
    }
   },
   "source": [
    "**Exercise**\n",
    "\n",
    "```\n",
    "Which of the following is a run-time error?\n",
    "\n",
    "(A) Attempting to divide by 0.\n",
    "(B) Forgetting a colon at the end of a statement where one is required.\n",
    "(C) Forgetting to divide by 100 when printing a percentage amount.\n",
    "```"
   ]
  },
  {
   "cell_type": "markdown",
   "metadata": {
    "nbpresent": {
     "id": "7888dda0-2a87-4bfb-8fd5-512774e3516c"
    }
   },
   "source": [
    "## Semantic Errors\n",
    "\n",
    "If there is a semantic error in your program, it will run successfully in the sense that the computer will not generate any error messages. \n",
    "\n",
    "However, your program will not do the right thing. It will do something else. \n",
    "\n",
    "The problem is that the program you wrote is not the program you wanted to write. The meaning of the program (its semantics) is wrong. \n"
   ]
  },
  {
   "cell_type": "markdown",
   "metadata": {
    "nbpresent": {
     "id": "e6f7d40b-b29d-4c75-9ea6-98b3fd7d7356"
    }
   },
   "source": [
    "**Exercise**\n",
    "\n",
    "```\n",
    "Which of the following is a semantic error?\n",
    "\n",
    "(A) Attempting to divide by 0.\n",
    "(B) Forgetting a semi-colon at the end of a statement where one is required.\n",
    "(C) Forgetting to divide by 100 when printing a percentage amount.\n",
    "```"
   ]
  },
  {
   "cell_type": "markdown",
   "metadata": {
    "nbpresent": {
     "id": "adf93495-8b76-497e-9477-0931d9549aa1"
    }
   },
   "source": [
    "## Experimental Debugging\n",
    "\n",
    "Although it can be frustrating, debugging is one of the most intellectually rich, challenging, and interesting parts of programming.\n",
    "\n",
    "In some ways, debugging is like detective work. \n",
    "\n",
    "Debugging is also like an experimental science. "
   ]
  },
  {
   "cell_type": "markdown",
   "metadata": {
    "nbpresent": {
     "id": "6324cf30-1e8d-4432-a1cd-d837f7dc1b13"
    }
   },
   "source": [
    "**Exercise**\n",
    "```\n",
    "The difference between programming and debugging is:\n",
    "\n",
    "(A) programming is the process of writing and gradually debugging a program until it does what you want.\n",
    "(B) programming is creative and debugging is routine.\n",
    "(C) programming is fun and debugging is work.\n",
    "(D) there is no difference between them.\n",
    "```"
   ]
  },
  {
   "cell_type": "markdown",
   "metadata": {
    "nbpresent": {
     "id": "244859ba-ba1c-48ec-80eb-5c96ba6a599a"
    }
   },
   "source": [
    "## Formal and Natural Languages\n",
    "\n",
    "Natural languages are the languages that people speak. They were not designed by people; they evolved naturally.\n",
    "\n",
    "Formal languages are languages that are designed by people for specific applications. \n",
    "\n",
    "&nbsp;\n",
    "<div class=\"alert alert-success\">\n",
    "Programming languages are formal languages that have been designed to express computations.\n",
    "</div>\n",
    "\n"
   ]
  },
  {
   "cell_type": "markdown",
   "metadata": {
    "nbpresent": {
     "id": "a116e19a-f5b0-47a5-b565-99fda5086c68"
    }
   },
   "source": [
    "\n",
    "**Formal languages have strict rules about syntax**\n",
    "\n",
    "Syntax rules come in two flavors: tokens and structure.\n",
    "\n",
    "&nbsp;\n",
    "<div class=\"panel panel-info\">\n",
    "    <div class=\"panel-heading\">Tokens\n",
    "    </div>\n",
    "    <div class=\"panel-body\">Tokens are the basic elements of the language</div>\n",
    "</div>\n",
    "\n",
    "<div class=\"panel panel-info\">\n",
    "    <div class=\"panel-heading\">Structure of a statement\n",
    "    </div>\n",
    "    <div class=\"panel-body\">the way the tokens are arranged</div>\n",
    "</div>\n",
    "\n",
    "&nbsp;"
   ]
  },
  {
   "cell_type": "markdown",
   "metadata": {
    "nbpresent": {
     "id": "e8843d6e-e5ce-49c1-9e43-ffc54776a1af"
    }
   },
   "source": [
    "**Formal and natural languages differences**\n",
    "\n",
    "---\n",
    "\n",
    "<div class=\"well well-sm\">\n",
    "    ambiguity\n",
    "</div>\n",
    "\n",
    "\n",
    "<div class=\"well well-sm\">\n",
    "    redundancy\n",
    "</div>\n",
    "\n",
    "<div class=\"well well-sm\">\n",
    "    literalness\n",
    "</div>"
   ]
  },
  {
   "cell_type": "markdown",
   "metadata": {
    "nbpresent": {
     "id": "29c74ab1-ef10-4c93-98de-40c63145c125"
    }
   },
   "source": [
    "**`Exercise`**\n",
    "\n",
    "```\n",
    "1. The differences between natural and formal languages include:\n",
    "(A) natural languages can be parsed while formal languages cannot.\n",
    "(B) ambiguity, redundancy, and literalness.\n",
    "(C) there are no differences between natural and formal languages.\n",
    "(D) tokens, structure, syntax, and semantics.\n",
    "```"
   ]
  },
  {
   "cell_type": "markdown",
   "metadata": {
    "nbpresent": {
     "id": "7c9f9a09-098f-4160-bc29-662ac6fe6ab8"
    }
   },
   "source": [
    "```\n",
    "2. Reading a program is like reading other kinds of text.\n",
    "(A) True\n",
    "(B) False\n",
    "```"
   ]
  },
  {
   "cell_type": "markdown",
   "metadata": {
    "nbpresent": {
     "id": "09981a45-f695-4a11-822d-88032c28e296"
    }
   },
   "source": [
    "## A Typical First Program"
   ]
  },
  {
   "cell_type": "code",
   "execution_count": 1,
   "metadata": {
    "nbpresent": {
     "id": "498476cf-7948-459f-8bb6-3cf77a3f7edd"
    },
    "scrolled": true
   },
   "outputs": [
    {
     "name": "stdout",
     "output_type": "stream",
     "text": [
      "Hello World!\n"
     ]
    }
   ],
   "source": [
    "print(\"Hello World!\")"
   ]
  },
  {
   "cell_type": "markdown",
   "metadata": {
    "nbpresent": {
     "id": "d88f4fc4-3ae1-4d88-b88c-ef1bdd85b609"
    }
   },
   "source": [
    "## Comments\n",
    "\n",
    "A comment in a computer program is **text** that is intended **only for the human reader** - it is completely ignored by the interpreter. \n",
    "\n",
    "In Python, the **#** token starts a comment. The rest of the line is ignored. "
   ]
  },
  {
   "cell_type": "markdown",
   "metadata": {
    "nbpresent": {
     "id": "78434818-0957-4f1a-9c17-ae15b08b0865"
    }
   },
   "source": [
    "```python\n",
    "#---------------------------------------------------\n",
    "# This demo program shows off how elegant Python is!\n",
    "# Written by Joe Soap, December 2010.\n",
    "# Anyone may freely copy or modify this program.\n",
    "#---------------------------------------------------\n",
    "\n",
    "print(\"Hello, World!\")     # Isn't this easy!\n",
    "```"
   ]
  },
  {
   "cell_type": "markdown",
   "metadata": {
    "nbpresent": {
     "id": "6ac24090-c8b6-4131-bbc6-d9f5fc5c1e29"
    }
   },
   "source": [
    "**Exercise**\n",
    "```\n",
    "What are comments for?\n",
    "(A) To tell the computer what you mean in your program.\n",
    "(B) For the people who are reading your code to know, in natural language, what the program is doing.\n",
    "(C) Nothing, they are extraneous information that is not needed.\n",
    "(D) Nothing in a short program. They are only needed for really large programs.\n",
    "```"
   ]
  },
  {
   "cell_type": "markdown",
   "metadata": {
    "nbpresent": {
     "id": "948cfc2a-468c-41b7-9a1e-6dc8443e39f9"
    }
   },
   "source": [
    "##  Glossary\n",
    "\n",
    "**algorithm**\n",
    "\n",
    "A general step by step process for solving a problem.\n",
    "\n",
    "**bug**\n",
    "\n",
    "An error in a program.\n",
    "\n",
    "**byte code**\n",
    "\n",
    "An intermediate language between source code and object code. Many modern languages first compile source code into byte code and then interpret the byte code with a program called a virtual machine.\n",
    "\n",
    "**comment**\n",
    "\n",
    "Information in a program that is meant for other programmers (or anyone reading the source code) and has no effect on the execution of the program.\n",
    "\n",
    "**compile**\n",
    "\n",
    "To translate a program written in a high-level language into a low-level language all at once, in preparation for later execution.\n",
    "\n",
    "**debugging**\n",
    "\n",
    "The process of finding and removing any of the three kinds of programming errors.\n",
    "\n",
    "**exception**\n",
    "\n",
    "Another name for a runtime error.\n",
    "\n",
    "**executable**\n",
    "\n",
    "Another name for object code that is ready to be executed.\n",
    "\n",
    "**formal language**\n",
    "\n",
    "Any one of the languages that people have designed for specific purposes, such as representing mathematical ideas or computer programs; all programming languages are formal languages.\n",
    "\n",
    "**high-level language**\n",
    "\n",
    "A programming language like Python that is designed to be easy for humans to read and write.\n",
    "\n",
    "**interpret**\n",
    "\n",
    "To execute a program in a high-level language by translating it one line at a time.\n",
    "\n",
    "**low-level language**\n",
    "\n",
    "A programming language that is designed to be easy for a computer to execute; also called machine language or assembly language.\n",
    "\n",
    "**natural language**\n",
    "\n",
    "Any one of the languages that people speak that evolved naturally.\n",
    "\n",
    "**object code**\n",
    "\n",
    "The output of the compiler after it translates the program.\n",
    "\n",
    "**parse**\n",
    "\n",
    "To examine a program and analyze the syntactic structure.\n",
    "\n",
    "**portability**\n",
    "\n",
    "A property of a program that can run on more than one kind of computer.\n",
    "\n",
    "**print function**\n",
    "\n",
    "A function used in a program or script that causes the Python interpreter to display a value on its output device.\n",
    "\n",
    "**problem solving**\n",
    "\n",
    "The process of formulating a problem, finding a solution, and expressing the solution.\n",
    "\n",
    "**program**\n",
    "\n",
    "A sequence of instructions that specifies to a computer actions and computations to be performed.\n",
    "\n",
    "**programming language**\n",
    "\n",
    "A formal notation for representing solutions.\n",
    "\n",
    "**Python shell**\n",
    "\n",
    "An interactive user interface to the Python interpreter. The user of a Python shell types commands at the prompt (>>>), and presses the return key to send these commands immediately to the interpreter for processing.\n",
    "\n",
    "**runtime error**\n",
    "\n",
    "An error that does not occur until the program has started to execute but that prevents the program from continuing.\n",
    "\n",
    "**semantic error**\n",
    "\n",
    "An error in a program that makes it do something other than what the programmer intended.\n",
    "\n",
    "**semantics**\n",
    "\n",
    "The meaning of a program.\n",
    "\n",
    "**shell mode**\n",
    "\n",
    "A style of using Python where we type expressions at the command prompt, and the results are shown immediately. Contrast with source code, and see the entry under Python shell.\n",
    "\n",
    "**source code**\n",
    "\n",
    "A program, stored in a file, in a high-level language before being compiled or interpreted.\n",
    "\n",
    "**syntax**\n",
    "\n",
    "The structure of a program.\n",
    "\n",
    "**syntax error**\n",
    "\n",
    "An error in a program that makes it impossible to parse — and therefore impossible to interpret.\n",
    "\n",
    "**token**\n",
    "\n",
    "One of the basic elements of the syntactic structure of a program, analogous to a word in a natural language."
   ]
  },
  {
   "cell_type": "code",
   "execution_count": null,
   "metadata": {},
   "outputs": [],
   "source": []
  }
 ],
 "metadata": {
  "anaconda-cloud": {},
  "kernelspec": {
   "display_name": "Python 3",
   "language": "python",
   "name": "python3"
  },
  "language_info": {
   "codemirror_mode": {
    "name": "ipython",
    "version": 3
   },
   "file_extension": ".py",
   "mimetype": "text/x-python",
   "name": "python",
   "nbconvert_exporter": "python",
   "pygments_lexer": "ipython3",
   "version": "3.7.0"
  },
  "nbpresent": {
   "slides": {
    "27cc48c8-f4a5-440a-837e-3e7215052aad": {
     "id": "27cc48c8-f4a5-440a-837e-3e7215052aad",
     "prev": "e0033cc3-6656-4dbd-9a1e-3aa6a772f808",
     "regions": {
      "0b061f00-9fad-47bc-8d55-689e17a91273": {
       "attrs": {
        "height": 0.8,
        "width": 0.8,
        "x": 0.1,
        "y": 0.1
       },
       "content": {
        "cell": "6ac24090-c8b6-4131-bbc6-d9f5fc5c1e29",
        "part": "whole"
       },
       "id": "0b061f00-9fad-47bc-8d55-689e17a91273"
      }
     }
    },
    "3227506d-92b6-4a99-a6f8-185e05814409": {
     "id": "3227506d-92b6-4a99-a6f8-185e05814409",
     "prev": "802f0ee8-a357-49ed-be03-38348eb9c962",
     "regions": {
      "673dcb71-4a14-4c6c-bdb0-ea6974a5061a": {
       "attrs": {
        "height": 0.8,
        "width": 0.8,
        "x": 0.1,
        "y": 0.1
       },
       "content": {
        "cell": "adf93495-8b76-497e-9477-0931d9549aa1",
        "part": "whole"
       },
       "id": "673dcb71-4a14-4c6c-bdb0-ea6974a5061a"
      }
     }
    },
    "33f56320-c5f7-4628-8ec2-63cccd4941da": {
     "id": "33f56320-c5f7-4628-8ec2-63cccd4941da",
     "prev": "4843c736-90b7-46ce-a7fa-33baa5f57d1d",
     "regions": {
      "de2fe5c0-4fba-464e-815d-dd74b9d67ad3": {
       "attrs": {
        "height": 0.8,
        "width": 0.8,
        "x": 0.1,
        "y": 0.1
       },
       "content": {
        "cell": "844521ef-55f5-4101-bd41-033cbfbb1254",
        "part": "whole"
       },
       "id": "de2fe5c0-4fba-464e-815d-dd74b9d67ad3"
      }
     }
    },
    "3abaf371-b811-44dc-9a6d-adab1edee132": {
     "id": "3abaf371-b811-44dc-9a6d-adab1edee132",
     "prev": "c193ab98-199f-46c3-9532-9ea68686577c",
     "regions": {
      "7b0fadb2-ec02-4a0a-ab9c-e3c7f4591ec7": {
       "attrs": {
        "height": 0.5307692307692308,
        "width": 0.8000000000000002,
        "x": 0.10000000000000002,
        "y": 0.3692307692307692
       },
       "content": {
        "cell": "498476cf-7948-459f-8bb6-3cf77a3f7edd",
        "part": "whole"
       },
       "id": "7b0fadb2-ec02-4a0a-ab9c-e3c7f4591ec7"
      },
      "cffa7a63-4e43-4f68-8acc-57a407d6d8ee": {
       "attrs": {
        "height": 0.22760180995475116,
        "width": 0.8000000000000002,
        "x": 0.10000000000000002,
        "y": 0.1
       },
       "content": {
        "cell": "09981a45-f695-4a11-822d-88032c28e296",
        "part": "whole"
       },
       "id": "cffa7a63-4e43-4f68-8acc-57a407d6d8ee"
      }
     }
    },
    "3e5897e4-58ac-4c2b-a814-472c203c42ba": {
     "id": "3e5897e4-58ac-4c2b-a814-472c203c42ba",
     "prev": "c3744f19-1971-49af-8e25-754463a64617",
     "regions": {
      "57188f15-bd25-4b9c-a226-de7a8a404386": {
       "attrs": {
        "height": 0.8,
        "width": 0.8,
        "x": 0.1,
        "y": 0.1
       },
       "content": {
        "cell": "09a5a586-fabc-4b12-84ce-04dd8274baf5",
        "part": "whole"
       },
       "id": "57188f15-bd25-4b9c-a226-de7a8a404386"
      }
     }
    },
    "42eabf04-8fdd-4450-a312-af8e38da03cf": {
     "id": "42eabf04-8fdd-4450-a312-af8e38da03cf",
     "prev": "ffc412c7-8966-4555-885f-d84d80138b18",
     "regions": {
      "0b98e42e-dbb4-4b99-be5d-30fbfa71e76c": {
       "attrs": {
        "height": 0.8,
        "width": 0.8,
        "x": 0.1,
        "y": 0.1
       },
       "content": {
        "cell": "7aeb386f-373c-4cdf-a289-67f0009cb816",
        "part": "whole"
       },
       "id": "0b98e42e-dbb4-4b99-be5d-30fbfa71e76c"
      }
     }
    },
    "45eee05f-bb9f-4ebd-83cc-56fb51ef053f": {
     "id": "45eee05f-bb9f-4ebd-83cc-56fb51ef053f",
     "prev": "27cc48c8-f4a5-440a-837e-3e7215052aad",
     "regions": {
      "0a92bc34-7d1c-45a8-87b3-9efdd8a91dc8": {
       "attrs": {
        "height": 0.8,
        "width": 0.8,
        "x": 0.1,
        "y": 0.1
       },
       "id": "0a92bc34-7d1c-45a8-87b3-9efdd8a91dc8"
      }
     }
    },
    "4843c736-90b7-46ce-a7fa-33baa5f57d1d": {
     "id": "4843c736-90b7-46ce-a7fa-33baa5f57d1d",
     "prev": "c202bc4c-91b3-49f3-a9b7-82312ec6935d",
     "regions": {
      "d89c027b-7144-41a8-9215-254ca4306352": {
       "attrs": {
        "height": 0.8,
        "width": 0.8,
        "x": 0.1,
        "y": 0.1
       },
       "content": {
        "cell": "8e0cbbe0-92d0-4151-9c04-efb13999ed53",
        "part": "whole"
       },
       "id": "d89c027b-7144-41a8-9215-254ca4306352"
      }
     }
    },
    "56f49a75-17ce-4fb5-9cb4-9e32a4922500": {
     "id": "56f49a75-17ce-4fb5-9cb4-9e32a4922500",
     "prev": "74246648-d823-4078-9345-559b61eab4d1",
     "regions": {
      "0a551a1d-0d12-43d8-9261-47bac6afc71f": {
       "attrs": {
        "height": 0.8,
        "width": 0.8,
        "x": 0.1,
        "y": 0.1
       },
       "content": {
        "cell": "f117f1c3-9a7f-45e7-a24d-7490d3b09e5b",
        "part": "whole"
       },
       "id": "0a551a1d-0d12-43d8-9261-47bac6afc71f"
      }
     }
    },
    "5b343e36-9872-4004-bb3a-467ec4cd6714": {
     "id": "5b343e36-9872-4004-bb3a-467ec4cd6714",
     "prev": null,
     "regions": {
      "c375ac19-03fb-485a-b8c9-07cf2f450086": {
       "attrs": {
        "height": 0.5462852073630518,
        "width": 0.8,
        "x": 0.1,
        "y": 0.3537147926369483
       },
       "content": {
        "cell": "67f6353c-d00a-4035-8fc3-5f5db23bf13c",
        "part": "whole"
       },
       "id": "c375ac19-03fb-485a-b8c9-07cf2f450086"
      }
     }
    },
    "5f5105f0-c00b-4111-94c1-9ce449d47637": {
     "id": "5f5105f0-c00b-4111-94c1-9ce449d47637",
     "prev": "8d2c2bcc-837d-459a-8b31-976ef30e6ec6",
     "regions": {
      "fc166543-88a3-4103-bddc-701da2529912": {
       "attrs": {
        "height": 0.8,
        "width": 0.8,
        "x": 0.1,
        "y": 0.1
       },
       "content": {
        "cell": "811b52c6-a6cd-490c-972b-fcef0d7baa72",
        "part": "whole"
       },
       "id": "fc166543-88a3-4103-bddc-701da2529912"
      }
     }
    },
    "610b203a-1eb1-44ce-95b6-c49adda52cdf": {
     "id": "610b203a-1eb1-44ce-95b6-c49adda52cdf",
     "prev": "5f5105f0-c00b-4111-94c1-9ce449d47637",
     "regions": {
      "aebc3c11-2119-4c39-972d-94b9aff73652": {
       "attrs": {
        "height": 0.8,
        "width": 0.8,
        "x": 0.1,
        "y": 0.1
       },
       "content": {
        "cell": "eb09240b-4094-4c41-8c89-e25334b39139",
        "part": "whole"
       },
       "id": "aebc3c11-2119-4c39-972d-94b9aff73652"
      }
     }
    },
    "704c1aae-bd0a-4eea-bf02-81a0bfaa94f6": {
     "id": "704c1aae-bd0a-4eea-bf02-81a0bfaa94f6",
     "prev": "3abaf371-b811-44dc-9a6d-adab1edee132",
     "regions": {
      "8ecaacaa-7d47-4288-87d5-fdba70cd8d01": {
       "attrs": {
        "height": 0.8,
        "width": 0.8,
        "x": 0.1,
        "y": 0.1
       },
       "content": {
        "cell": "d88f4fc4-3ae1-4d88-b88c-ef1bdd85b609",
        "part": "whole"
       },
       "id": "8ecaacaa-7d47-4288-87d5-fdba70cd8d01"
      }
     }
    },
    "74246648-d823-4078-9345-559b61eab4d1": {
     "id": "74246648-d823-4078-9345-559b61eab4d1",
     "prev": "610b203a-1eb1-44ce-95b6-c49adda52cdf",
     "regions": {
      "b6a0c936-4c70-49a2-907b-d7465a9c7703": {
       "attrs": {
        "height": 0.8,
        "width": 0.8,
        "x": 0.1,
        "y": 0.1
       },
       "content": {
        "cell": "e4311b48-5f0e-4f20-837c-a0d57b42335c",
        "part": "whole"
       },
       "id": "b6a0c936-4c70-49a2-907b-d7465a9c7703"
      }
     }
    },
    "78283c90-5413-4ebe-aaad-2c3a2ffd40df": {
     "id": "78283c90-5413-4ebe-aaad-2c3a2ffd40df",
     "prev": "c5eaf044-f24e-4427-acc9-a20e5790515a",
     "regions": {
      "9a2c6423-85e5-4b74-acb4-7299479e93db": {
       "attrs": {
        "height": 0.8,
        "width": 0.8,
        "x": 0.1,
        "y": 0.1
       },
       "content": {
        "cell": "e8843d6e-e5ce-49c1-9e43-ffc54776a1af",
        "part": "whole"
       },
       "id": "9a2c6423-85e5-4b74-acb4-7299479e93db"
      }
     }
    },
    "7b84982f-f24f-41b0-92c2-0fc600401025": {
     "id": "7b84982f-f24f-41b0-92c2-0fc600401025",
     "prev": "fb1b86ab-5452-4d27-9940-d8ac65f8bb30",
     "regions": {
      "912cf879-312a-4456-a08e-192431e775f1": {
       "attrs": {
        "height": 0.8,
        "width": 0.8,
        "x": 0.1,
        "y": 0.1
       },
       "content": {
        "cell": "244859ba-ba1c-48ec-80eb-5c96ba6a599a",
        "part": "whole"
       },
       "id": "912cf879-312a-4456-a08e-192431e775f1"
      }
     }
    },
    "802f0ee8-a357-49ed-be03-38348eb9c962": {
     "id": "802f0ee8-a357-49ed-be03-38348eb9c962",
     "prev": "fea353de-1ff1-4c20-bdec-0f1c570392f3",
     "regions": {
      "56ffaed4-b50d-4187-87fd-8014fd325773": {
       "attrs": {
        "height": 0.8,
        "width": 0.8,
        "x": 0.1,
        "y": 0.1
       },
       "content": {
        "cell": "e6f7d40b-b29d-4c75-9ea6-98b3fd7d7356",
        "part": "whole"
       },
       "id": "56ffaed4-b50d-4187-87fd-8014fd325773"
      }
     }
    },
    "8cf672ea-7c42-45a8-8ec8-8b0a156e018a": {
     "id": "8cf672ea-7c42-45a8-8ec8-8b0a156e018a",
     "prev": "3e5897e4-58ac-4c2b-a814-472c203c42ba",
     "regions": {
      "7047525a-a475-46aa-9300-3806d7d66b80": {
       "attrs": {
        "height": 0.8,
        "width": 0.8,
        "x": 0.1,
        "y": 0.1
       },
       "content": {
        "cell": "c9a66e0c-fc02-4497-be07-7aee7465bd60",
        "part": "whole"
       },
       "id": "7047525a-a475-46aa-9300-3806d7d66b80"
      }
     }
    },
    "8d2c2bcc-837d-459a-8b31-976ef30e6ec6": {
     "id": "8d2c2bcc-837d-459a-8b31-976ef30e6ec6",
     "prev": "33f56320-c5f7-4628-8ec2-63cccd4941da",
     "regions": {
      "a3d6b498-4d08-489f-b054-31c45c6518a8": {
       "attrs": {
        "height": 0.8,
        "width": 0.8,
        "x": 0.1,
        "y": 0.1
       },
       "content": {
        "cell": "5e363e09-2459-40cb-b5ca-631a69d56429",
        "part": "whole"
       },
       "id": "a3d6b498-4d08-489f-b054-31c45c6518a8"
      }
     }
    },
    "9685bfab-6227-4dfe-88c3-afa8ae0159cc": {
     "id": "9685bfab-6227-4dfe-88c3-afa8ae0159cc",
     "prev": "edf3ac26-952d-4254-870b-ff7c848d51e2",
     "regions": {
      "6cb44bbe-dd36-4136-86af-70ec61220c74": {
       "attrs": {
        "height": 0.8,
        "width": 0.8,
        "x": 0.1,
        "y": 0.1
       },
       "content": {
        "cell": "98b8e39f-2453-4b26-89b5-db4fe29aa51b",
        "part": "whole"
       },
       "id": "6cb44bbe-dd36-4136-86af-70ec61220c74"
      }
     }
    },
    "97ed419a-6943-4e84-a52b-59d189c708d4": {
     "id": "97ed419a-6943-4e84-a52b-59d189c708d4",
     "prev": "56f49a75-17ce-4fb5-9cb4-9e32a4922500",
     "regions": {
      "78dff6c1-8c58-4905-8ec7-db3875879200": {
       "attrs": {
        "height": 0.8,
        "width": 0.8,
        "x": 0.1,
        "y": 0.1
       },
       "content": {
        "cell": "fc168ab7-dbce-4afc-a8d3-b33dae75802a",
        "part": "whole"
       },
       "id": "78dff6c1-8c58-4905-8ec7-db3875879200"
      }
     }
    },
    "c193ab98-199f-46c3-9532-9ea68686577c": {
     "id": "c193ab98-199f-46c3-9532-9ea68686577c",
     "prev": "f1d3eb62-011d-4200-a087-a269c326caa0",
     "regions": {
      "1ae38d15-b0da-4d9b-901f-aed1313c40b7": {
       "attrs": {
        "height": 0.8,
        "width": 0.8,
        "x": 0.1,
        "y": 0.1
       },
       "content": {
        "cell": "7c9f9a09-098f-4160-bc29-662ac6fe6ab8",
        "part": "whole"
       },
       "id": "1ae38d15-b0da-4d9b-901f-aed1313c40b7"
      }
     }
    },
    "c202bc4c-91b3-49f3-a9b7-82312ec6935d": {
     "id": "c202bc4c-91b3-49f3-a9b7-82312ec6935d",
     "prev": "8cf672ea-7c42-45a8-8ec8-8b0a156e018a",
     "regions": {
      "a546649c-0bbe-453a-beaa-6238111abff6": {
       "attrs": {
        "height": 0.8,
        "width": 0.8,
        "x": 0.1,
        "y": 0.1
       },
       "content": {
        "cell": "f9e385e8-dabe-4903-b47c-6a4a53527510",
        "part": "whole"
       },
       "id": "a546649c-0bbe-453a-beaa-6238111abff6"
      }
     }
    },
    "c3744f19-1971-49af-8e25-754463a64617": {
     "id": "c3744f19-1971-49af-8e25-754463a64617",
     "prev": "5b343e36-9872-4004-bb3a-467ec4cd6714",
     "regions": {
      "f25b6c0d-4181-45cf-98db-97f0875e71db": {
       "attrs": {
        "height": 0.8,
        "width": 0.8,
        "x": 0.1,
        "y": 0.1
       },
       "content": {
        "cell": "260ad8c4-b93b-49ce-8cc5-c4a296053820",
        "part": "whole"
       },
       "id": "f25b6c0d-4181-45cf-98db-97f0875e71db"
      }
     }
    },
    "c5eaf044-f24e-4427-acc9-a20e5790515a": {
     "id": "c5eaf044-f24e-4427-acc9-a20e5790515a",
     "prev": "7b84982f-f24f-41b0-92c2-0fc600401025",
     "regions": {
      "88d7c7ab-957c-467b-8164-4b0a25a01c89": {
       "attrs": {
        "height": 0.8,
        "width": 0.8,
        "x": 0.1,
        "y": 0.1
       },
       "content": {
        "cell": "a116e19a-f5b0-47a5-b565-99fda5086c68",
        "part": "whole"
       },
       "id": "88d7c7ab-957c-467b-8164-4b0a25a01c89"
      }
     }
    },
    "e0033cc3-6656-4dbd-9a1e-3aa6a772f808": {
     "id": "e0033cc3-6656-4dbd-9a1e-3aa6a772f808",
     "layout": "treemap",
     "prev": "704c1aae-bd0a-4eea-bf02-81a0bfaa94f6",
     "regions": {
      "d39b0426-3a53-4913-9a9f-29594f42378f": {
       "attrs": {
        "height": 1,
        "pad": 0.01,
        "treemap:weight": 1,
        "width": 1,
        "x": 0,
        "y": 0
       },
       "content": {
        "cell": "78434818-0957-4f1a-9c17-ae15b08b0865",
        "part": "whole"
       },
       "id": "d39b0426-3a53-4913-9a9f-29594f42378f"
      }
     },
     "theme": "cd3ed7da-0514-4f93-bf54-8bff507be993"
    },
    "edf3ac26-952d-4254-870b-ff7c848d51e2": {
     "id": "edf3ac26-952d-4254-870b-ff7c848d51e2",
     "prev": "ee2c4b03-9db5-42c5-b45e-11d15a4f529e",
     "regions": {
      "df8ec29d-228e-4b5d-b300-381ed189dd9c": {
       "attrs": {
        "height": 0.8,
        "width": 0.8,
        "x": 0.1,
        "y": 0.1
       },
       "content": {
        "cell": "62efdfdc-5275-497b-8038-2566c194203b",
        "part": "whole"
       },
       "id": "df8ec29d-228e-4b5d-b300-381ed189dd9c"
      }
     }
    },
    "ee2c4b03-9db5-42c5-b45e-11d15a4f529e": {
     "id": "ee2c4b03-9db5-42c5-b45e-11d15a4f529e",
     "prev": "97ed419a-6943-4e84-a52b-59d189c708d4",
     "regions": {
      "20a423a9-4d03-4f33-8fa4-158edcc5bc93": {
       "attrs": {
        "height": 0.8,
        "width": 0.8,
        "x": 0.1,
        "y": 0.1
       },
       "content": {
        "cell": "dc29ce51-a334-496d-a69d-0de179bd78bc",
        "part": "whole"
       },
       "id": "20a423a9-4d03-4f33-8fa4-158edcc5bc93"
      }
     }
    },
    "f1d3eb62-011d-4200-a087-a269c326caa0": {
     "id": "f1d3eb62-011d-4200-a087-a269c326caa0",
     "prev": "78283c90-5413-4ebe-aaad-2c3a2ffd40df",
     "regions": {
      "31b1ce75-81ca-4ae3-99ec-119f0c480ed7": {
       "attrs": {
        "height": 0.8,
        "width": 0.8,
        "x": 0.1,
        "y": 0.1
       },
       "content": {
        "cell": "29c74ab1-ef10-4c93-98de-40c63145c125",
        "part": "whole"
       },
       "id": "31b1ce75-81ca-4ae3-99ec-119f0c480ed7"
      }
     }
    },
    "fb1b86ab-5452-4d27-9940-d8ac65f8bb30": {
     "id": "fb1b86ab-5452-4d27-9940-d8ac65f8bb30",
     "prev": "3227506d-92b6-4a99-a6f8-185e05814409",
     "regions": {
      "2fa91b35-5c0b-41ad-b78e-2a98382d3da6": {
       "attrs": {
        "height": 0.8,
        "width": 0.8,
        "x": 0.1,
        "y": 0.1
       },
       "content": {
        "cell": "6324cf30-1e8d-4432-a1cd-d837f7dc1b13",
        "part": "whole"
       },
       "id": "2fa91b35-5c0b-41ad-b78e-2a98382d3da6"
      }
     }
    },
    "fea353de-1ff1-4c20-bdec-0f1c570392f3": {
     "id": "fea353de-1ff1-4c20-bdec-0f1c570392f3",
     "prev": "42eabf04-8fdd-4450-a312-af8e38da03cf",
     "regions": {
      "5a30515e-18ed-4841-983f-d98eed8e6a52": {
       "attrs": {
        "height": 0.8,
        "width": 0.8,
        "x": 0.1,
        "y": 0.1
       },
       "content": {
        "cell": "7888dda0-2a87-4bfb-8fd5-512774e3516c",
        "part": "whole"
       },
       "id": "5a30515e-18ed-4841-983f-d98eed8e6a52"
      }
     }
    },
    "ffc412c7-8966-4555-885f-d84d80138b18": {
     "id": "ffc412c7-8966-4555-885f-d84d80138b18",
     "prev": "9685bfab-6227-4dfe-88c3-afa8ae0159cc",
     "regions": {
      "42ffc51d-4815-400f-b089-1c0c800a3d9a": {
       "attrs": {
        "height": 0.8,
        "width": 0.8,
        "x": 0.1,
        "y": 0.1
       },
       "content": {
        "cell": "bf57a1cd-7a24-48d8-b4e5-ceacf774e6b8",
        "part": "whole"
       },
       "id": "42ffc51d-4815-400f-b089-1c0c800a3d9a"
      }
     }
    }
   },
   "themes": {
    "default": "cd3ed7da-0514-4f93-bf54-8bff507be993",
    "theme": {
     "0af4be00-9728-451c-a8c0-c45c2d9600ee": {
      "backgrounds": {
       "backgroundColor": {
        "background-color": "backgroundColor",
        "id": "backgroundColor"
       }
      },
      "id": "0af4be00-9728-451c-a8c0-c45c2d9600ee",
      "palette": {
       "backgroundColor": {
        "id": "backgroundColor",
        "rgb": [
         34,
         34,
         34
        ]
       },
       "headingColor": {
        "id": "headingColor",
        "rgb": [
         238,
         238,
         238
        ]
       },
       "linkColor": {
        "id": "linkColor",
        "rgb": [
         170,
         34,
         51
        ]
       },
       "mainColor": {
        "id": "mainColor",
        "rgb": [
         238,
         238,
         238
        ]
       }
      },
      "rules": {
       "a": {
        "color": "linkColor"
       },
       "h1": {
        "color": "headingColor",
        "font-family": "Ubuntu",
        "font-size": 7
       },
       "h2": {
        "color": "headingColor",
        "font-family": "Ubuntu",
        "font-size": 5
       },
       "h3": {
        "color": "headingColor",
        "font-family": "Ubuntu",
        "font-size": 3.75
       },
       "h4": {
        "color": "headingColor",
        "font-family": "Ubuntu",
        "font-size": 3
       },
       "h5": {
        "color": "headingColor",
        "font-family": "Ubuntu"
       },
       "h6": {
        "color": "headingColor",
        "font-family": "Ubuntu"
       },
       "h7": {
        "color": "headingColor",
        "font-family": "Ubuntu"
       },
       "li": {
        "color": "mainColor",
        "font-family": "Ubuntu",
        "font-size": 5
       },
       "p": {
        "color": "mainColor",
        "font-family": "Ubuntu",
        "font-size": 5
       }
      },
      "text-base": {
       "color": "mainColor",
       "font-family": "Ubuntu",
       "font-size": 5
      }
     },
     "cd3ed7da-0514-4f93-bf54-8bff507be993": {
      "id": "cd3ed7da-0514-4f93-bf54-8bff507be993",
      "palette": {
       "19cc588f-0593-49c9-9f4b-e4d7cc113b1c": {
        "id": "19cc588f-0593-49c9-9f4b-e4d7cc113b1c",
        "rgb": [
         252,
         252,
         252
        ]
       },
       "31af15d2-7e15-44c5-ab5e-e04b16a89eff": {
        "id": "31af15d2-7e15-44c5-ab5e-e04b16a89eff",
        "rgb": [
         68,
         68,
         68
        ]
       },
       "50f92c45-a630-455b-aec3-788680ec7410": {
        "id": "50f92c45-a630-455b-aec3-788680ec7410",
        "rgb": [
         155,
         177,
         192
        ]
       },
       "c5cc3653-2ee1-402a-aba2-7caae1da4f6c": {
        "id": "c5cc3653-2ee1-402a-aba2-7caae1da4f6c",
        "rgb": [
         43,
         126,
         184
        ]
       },
       "efa7f048-9acb-414c-8b04-a26811511a21": {
        "id": "efa7f048-9acb-414c-8b04-a26811511a21",
        "rgb": [
         25.118061674008803,
         73.60176211453744,
         107.4819383259912
        ]
       }
      },
      "rules": {
       "blockquote": {
        "color": "50f92c45-a630-455b-aec3-788680ec7410"
       },
       "code": {
        "font-family": "Anonymous Pro"
       },
       "h1": {
        "color": "c5cc3653-2ee1-402a-aba2-7caae1da4f6c",
        "font-family": "Lato",
        "font-size": 8
       },
       "h2": {
        "color": "c5cc3653-2ee1-402a-aba2-7caae1da4f6c",
        "font-family": "Lato",
        "font-size": 6
       },
       "h3": {
        "color": "50f92c45-a630-455b-aec3-788680ec7410",
        "font-family": "Lato",
        "font-size": 5.5
       },
       "h4": {
        "color": "c5cc3653-2ee1-402a-aba2-7caae1da4f6c",
        "font-family": "Lato",
        "font-size": 5
       },
       "h5": {
        "font-family": "Lato"
       },
       "h6": {
        "font-family": "Lato"
       },
       "h7": {
        "font-family": "Lato"
       },
       "pre": {
        "font-family": "Anonymous Pro",
        "font-size": 4
       }
      },
      "text-base": {
       "font-family": "Merriweather",
       "font-size": 4
      }
     },
     "fc25ae1a-0115-4b1b-96e2-279cf093806b": {
      "backgrounds": {
       "backgroundColor": {
        "background-color": "backgroundColor",
        "id": "backgroundColor"
       }
      },
      "id": "fc25ae1a-0115-4b1b-96e2-279cf093806b",
      "palette": {
       "backgroundColor": {
        "id": "backgroundColor",
        "rgb": [
         17,
         17,
         17
        ]
       },
       "headingColor": {
        "id": "headingColor",
        "rgb": [
         238,
         238,
         238
        ]
       },
       "linkColor": {
        "id": "linkColor",
        "rgb": [
         231,
         173,
         82
        ]
       },
       "mainColor": {
        "id": "mainColor",
        "rgb": [
         238,
         238,
         238
        ]
       }
      },
      "rules": {
       "a": {
        "color": "linkColor"
       },
       "h1": {
        "color": "headingColor",
        "font-family": "Montserrat",
        "font-size": 7
       },
       "h2": {
        "color": "headingColor",
        "font-family": "Montserrat",
        "font-size": 5
       },
       "h3": {
        "color": "headingColor",
        "font-family": "Montserrat",
        "font-size": 3.75
       },
       "h4": {
        "color": "headingColor",
        "font-family": "Montserrat",
        "font-size": 3
       },
       "h5": {
        "color": "headingColor",
        "font-family": "Montserrat"
       },
       "h6": {
        "color": "headingColor",
        "font-family": "Montserrat"
       },
       "h7": {
        "color": "headingColor",
        "font-family": "Montserrat"
       },
       "li": {
        "color": "mainColor",
        "font-family": "Open Sans",
        "font-size": 4
       },
       "p": {
        "color": "mainColor",
        "font-family": "Open Sans",
        "font-size": 4
       }
      },
      "text-base": {
       "color": "mainColor",
       "font-family": "Open Sans",
       "font-size": 4
      }
     }
    }
   }
  }
 },
 "nbformat": 4,
 "nbformat_minor": 1
}
